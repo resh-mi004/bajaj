{
 "cells": [
  {
   "cell_type": "code",
   "execution_count": 3,
   "id": "4dd742ca",
   "metadata": {},
   "outputs": [
    {
     "name": "stdout",
     "output_type": "stream",
     "text": [
      "Requirement already satisfied: opencv-python in c:\\users\\admin\\anaconda3\\lib\\site-packages (4.11.0.86)\n",
      "Requirement already satisfied: pytesseract in c:\\users\\admin\\anaconda3\\lib\\site-packages (0.3.13)\n",
      "Requirement already satisfied: Pillow in c:\\users\\admin\\anaconda3\\lib\\site-packages (9.2.0)\n",
      "Requirement already satisfied: fastapi in c:\\users\\admin\\anaconda3\\lib\\site-packages (0.115.12)\n",
      "Requirement already satisfied: uvicorn in c:\\users\\admin\\anaconda3\\lib\\site-packages (0.34.2)\n",
      "Requirement already satisfied: numpy>=1.19.3 in c:\\users\\admin\\anaconda3\\lib\\site-packages (from opencv-python) (1.21.5)\n",
      "Requirement already satisfied: packaging>=21.3 in c:\\users\\admin\\anaconda3\\lib\\site-packages (from pytesseract) (21.3)\n",
      "Requirement already satisfied: typing-extensions>=4.8.0 in c:\\users\\admin\\anaconda3\\lib\\site-packages (from fastapi) (4.13.2)\n",
      "Requirement already satisfied: starlette<0.47.0,>=0.40.0 in c:\\users\\admin\\anaconda3\\lib\\site-packages (from fastapi) (0.46.2)\n",
      "Requirement already satisfied: pydantic!=1.8,!=1.8.1,!=2.0.0,!=2.0.1,!=2.1.0,<3.0.0,>=1.7.4 in c:\\users\\admin\\anaconda3\\lib\\site-packages (from fastapi) (2.11.3)\n",
      "Requirement already satisfied: h11>=0.8 in c:\\users\\admin\\anaconda3\\lib\\site-packages (from uvicorn) (0.16.0)\n",
      "Requirement already satisfied: click>=7.0 in c:\\users\\admin\\anaconda3\\lib\\site-packages (from uvicorn) (8.0.4)\n",
      "Requirement already satisfied: colorama in c:\\users\\admin\\anaconda3\\lib\\site-packages (from click>=7.0->uvicorn) (0.4.5)\n",
      "Requirement already satisfied: pyparsing!=3.0.5,>=2.0.2 in c:\\users\\admin\\anaconda3\\lib\\site-packages (from packaging>=21.3->pytesseract) (3.0.9)\n",
      "Requirement already satisfied: annotated-types>=0.6.0 in c:\\users\\admin\\anaconda3\\lib\\site-packages (from pydantic!=1.8,!=1.8.1,!=2.0.0,!=2.0.1,!=2.1.0,<3.0.0,>=1.7.4->fastapi) (0.7.0)\n",
      "Requirement already satisfied: typing-inspection>=0.4.0 in c:\\users\\admin\\anaconda3\\lib\\site-packages (from pydantic!=1.8,!=1.8.1,!=2.0.0,!=2.0.1,!=2.1.0,<3.0.0,>=1.7.4->fastapi) (0.4.0)\n",
      "Requirement already satisfied: pydantic-core==2.33.1 in c:\\users\\admin\\anaconda3\\lib\\site-packages (from pydantic!=1.8,!=1.8.1,!=2.0.0,!=2.0.1,!=2.1.0,<3.0.0,>=1.7.4->fastapi) (2.33.1)\n",
      "Requirement already satisfied: anyio<5,>=3.6.2 in c:\\users\\admin\\anaconda3\\lib\\site-packages (from starlette<0.47.0,>=0.40.0->fastapi) (4.9.0)\n",
      "Requirement already satisfied: idna>=2.8 in c:\\users\\admin\\anaconda3\\lib\\site-packages (from anyio<5,>=3.6.2->starlette<0.47.0,>=0.40.0->fastapi) (3.3)\n",
      "Requirement already satisfied: exceptiongroup>=1.0.2 in c:\\users\\admin\\anaconda3\\lib\\site-packages (from anyio<5,>=3.6.2->starlette<0.47.0,>=0.40.0->fastapi) (1.2.2)\n",
      "Requirement already satisfied: sniffio>=1.1 in c:\\users\\admin\\anaconda3\\lib\\site-packages (from anyio<5,>=3.6.2->starlette<0.47.0,>=0.40.0->fastapi) (1.2.0)\n"
     ]
    }
   ],
   "source": [
    "!pip install opencv-python pytesseract Pillow fastapi uvicorn\n"
   ]
  },
  {
   "cell_type": "code",
   "execution_count": 6,
   "id": "f049ebc3",
   "metadata": {},
   "outputs": [],
   "source": [
    "import cv2\n",
    "from PIL import Image\n",
    "import pytesseract\n",
    "import numpy as np\n",
    "\n",
    "def preprocess_image(image_path):\n",
    "    return gray"
   ]
  },
  {
   "cell_type": "code",
   "execution_count": 7,
   "id": "3aa33fed",
   "metadata": {},
   "outputs": [],
   "source": [
    "def extract_text_from_image(image):\n",
    "    text = pytesseract.image_to_string(image)\n",
    "    return text"
   ]
  },
  {
   "cell_type": "code",
   "execution_count": 8,
   "id": "64929fdd",
   "metadata": {},
   "outputs": [],
   "source": [
    "import re\n",
    "def extract_lab_data_rule_based(text):\n",
    "    lines = text.split('\\n')\n",
    "    lab_data = []\n",
    "    for line in lines:\n",
    "        match =re.search(r\"([A-Za-z\\s]+)\\s*([\\d.]+)\\s*(?:([-.\\d]+)-([-.\\d]+))?\", line)\n",
    "        if match:\n",
    "            test_name = match.group(1).strip()\n",
    "            value = float(match.group(2)) if match.group(2) else None\n",
    "            lower_range = float(match.group(3)) if match.group(3) else None\n",
    "            upper_range = float(match.group(4)) if match.group(4) else None\n",
    "            lab_data.append({\n",
    "                \"test_name\": test_name,\n",
    "                \"value\": value,\n",
    "                \"bio_reference_range\": f\"{lower_range}-{upper_range}\" if lower_range is not None and upper_range is not None else None\n",
    "            })\n",
    "    return lab_data"
   ]
  },
  {
   "cell_type": "code",
   "execution_count": 17,
   "id": "d8202993",
   "metadata": {},
   "outputs": [],
   "source": [
    "def calculate_out_of_range(value, reference_range):\n",
    "    if value is None or reference_range is None:\n",
    "        return None\n",
    "    try:\n",
    "        lower, upper = map(float, reference_range.split('-'))\n",
    "        return not(lower <= value <= upper)\n",
    "    except ValueError:\n",
    "        return None\n",
    "    "
   ]
  },
  {
   "cell_type": "code",
   "execution_count": 18,
   "id": "ac4863f1",
   "metadata": {},
   "outputs": [
    {
     "name": "stdout",
     "output_type": "stream",
     "text": [
      "Collecting python-multipart\n",
      "  Downloading python_multipart-0.0.20-py3-none-any.whl (24 kB)\n",
      "Installing collected packages: python-multipart\n",
      "Successfully installed python-multipart-0.0.20\n"
     ]
    }
   ],
   "source": [
    "!pip install python-multipart"
   ]
  },
  {
   "cell_type": "code",
   "execution_count": 35,
   "id": "7d134811",
   "metadata": {},
   "outputs": [],
   "source": [
    "from fastapi import FastAPI, File, UploadFile, HTTPException\n",
    "from fastapi.responses import JSONResponse\n",
    "from PIL import Image\n",
    "import pytesseract\n",
    "import cv2\n",
    "import numpy as np\n",
    "import io\n",
    "import re\n",
    "\n",
    "app = FastAPI()\n",
    "\n",
    "# Preprocessing function to convert image to grayscale and apply thresholding\n",
    "def preprocess_image(image):\n",
    "    img_array = np.array(image)\n",
    "    img_cv = cv2.cvtColor(img_array, cv2.COLOR_RGB2BGR)\n",
    "    gray = cv2.cvtColor(img_cv, cv2.COLOR_BGR2GRAY)\n",
    "    gray = cv2.threshold(gray, 150, 255, cv2.THRESH_BINARY | cv2.THRESH_OTSU)[1]\n",
    "    return gray\n",
    "\n",
    "# Function to extract text from image using pytesseract\n",
    "def extract_text_from_image(image):\n",
    "    text = pytesseract.image_to_string(image)\n",
    "    return text\n",
    "\n",
    "# Function to extract lab data from text using rule-based approach (regex)\n",
    "def extract_lab_data_rule_based(text):\n",
    "    lines = text.split('\\n')\n",
    "    lab_data = []\n",
    "    for line in lines:\n",
    "        match = re.search(r\"([A-Za-z\\s]+)\\s*([\\d.]+)\\s*(?:([-.\\d]+)-([-.\\d]+))?\", line)\n",
    "        if match:\n",
    "            test_name = match.group(1).strip()\n",
    "            value = float(match.group(2)) if match.group(2) else None\n",
    "            lower_range = float(match.group(3)) if match.group(3) else None\n",
    "            upper_range = float(match.group(4)) if match.group(4) else None\n",
    "            lab_data.append({\n",
    "                \"test_name\": test_name,\n",
    "                \"value\": value,\n",
    "                \"bio_reference_range\": f\"{lower_range}-{upper_range}\" if lower_range is not None and upper_range is not None else None\n",
    "            })\n",
    "    return lab_data\n",
    "\n",
    "# Function to check if a value is out of range based on bio_reference_range\n",
    "def calculate_out_of_range(value, reference_range):\n",
    "    if value is None or reference_range is None:\n",
    "        return None\n",
    "    try:\n",
    "        lower, upper = map(float, reference_range.split('-'))\n",
    "        return not(lower <= value <= upper)\n",
    "    except ValueError:\n",
    "        return None\n",
    "\n",
    "# FastAPI POST endpoint to process lab report image and return extracted data\n",
    "@app.post(\"/get-lab-tests\")\n",
    "async def get_lab_tests(file: UploadFile = File()):\n",
    "    try:\n",
    "        contents = await file.read()\n",
    "        image = Image.open(io.BytesIO(contents))\n",
    "        gray_image = preprocess_image(image)\n",
    "        text = pytesseract.image_to_string(gray_image)\n",
    "        lab_data = extract_lab_data_rule_based(text)\n",
    "\n",
    "        # Add the out-of-range status for each lab test\n",
    "        for entry in lab_data:\n",
    "            entry[\"lab_test_out_of_range\"] = calculate_out_of_range(entry[\"value\"], entry[\"bio_reference_range\"])\n",
    "\n",
    "        return JSONResponse(content={\n",
    "            \"lab_tests\": lab_data,\n",
    "            \"is_success\": True\n",
    "        })\n",
    "\n",
    "    except Exception as e:\n",
    "        raise HTTPException(status_code=500, detail=str(e))\n",
    "\n"
   ]
  },
  {
   "cell_type": "code",
   "execution_count": null,
   "id": "44d89ab6",
   "metadata": {},
   "outputs": [],
   "source": [
    "\n",
    "\n"
   ]
  },
  {
   "cell_type": "code",
   "execution_count": null,
   "id": "e1d2f240",
   "metadata": {},
   "outputs": [],
   "source": []
  },
  {
   "cell_type": "code",
   "execution_count": null,
   "id": "3987f417",
   "metadata": {},
   "outputs": [],
   "source": []
  }
 ],
 "metadata": {
  "kernelspec": {
   "display_name": "Python 3 (ipykernel)",
   "language": "python",
   "name": "python3"
  },
  "language_info": {
   "codemirror_mode": {
    "name": "ipython",
    "version": 3
   },
   "file_extension": ".py",
   "mimetype": "text/x-python",
   "name": "python",
   "nbconvert_exporter": "python",
   "pygments_lexer": "ipython3",
   "version": "3.9.13"
  }
 },
 "nbformat": 4,
 "nbformat_minor": 5
}
